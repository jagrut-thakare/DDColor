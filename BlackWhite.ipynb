{
  "cells": [
    {
      "cell_type": "markdown",
      "metadata": {
        "id": "J1BziesJWpv_"
      },
      "source": [
        "# Setup"
      ]
    },
    {
      "cell_type": "code",
      "execution_count": null,
      "metadata": {
        "id": "WCorsLJCYFTZ"
      },
      "outputs": [],
      "source": [
        "! git clone https://github.com/jagrut-thakare/DDColor"
      ]
    },
    {
      "cell_type": "code",
      "execution_count": null,
      "metadata": {
        "id": "CWjSZnram8c6"
      },
      "outputs": [],
      "source": [
        "# Recreate the conda env if needed\n",
        "! conda config --add channels conda-forge\n",
        "! conda config --set channel_priority strict\n",
        "\n",
        "! conda run -n ddcolor pip install torch==2.2.0 torchvision==0.17.0 torchaudio==2.2.0 --index-url https://download.pytorch.org/whl/cu118\n",
        "\n",
        "! conda run -n ddcolor pip install lmdb==1.4.1 opencv-python==4.7.0.72"
      ]
    },
    {
      "cell_type": "code",
      "execution_count": null,
      "metadata": {
        "id": "fAXR__28R8CV"
      },
      "outputs": [],
      "source": [
        "! conda run -n ddcolor conda install dlib==19.24.2 --verbose"
      ]
    },
    {
      "cell_type": "code",
      "execution_count": null,
      "metadata": {
        "id": "UTIkuCpFPHD7"
      },
      "outputs": [],
      "source": [
        "! conda install -n ddcolor -c pytorch -c nvidia pytorch-cuda huggingface_hub numpy=1.24.3 requests=2.31.0 timm=0.9.2 \\\n",
        "wandb=0.15.5 scikit-image=0.22.0 tqdm=4.65.0 -y"
      ]
    },
    {
      "cell_type": "code",
      "execution_count": null,
      "metadata": {
        "id": "zrbE7fUOWvH5"
      },
      "outputs": [],
      "source": [
        "! conda run -n ddcolor pip install modelscope"
      ]
    },
    {
      "cell_type": "code",
      "execution_count": null,
      "metadata": {
        "id": "YjGNjkeiXbg5"
      },
      "outputs": [],
      "source": [
        "! conda run -n ddcolor pip install gradio gradio_imageslider"
      ]
    },
    {
      "cell_type": "markdown",
      "metadata": {
        "id": "QKwFIMpMxFIv"
      },
      "source": [
        "# Inference Using Hugging Face"
      ]
    },
    {
      "cell_type": "code",
      "execution_count": null,
      "metadata": {
        "id": "A5GXmqh7wXJA"
      },
      "outputs": [],
      "source": [
        "from infer_hf import DDColorHF\n",
        "\n",
        "ddcolor_paper_tiny = DDColorHF.from_pretrained(\"piddnad/ddcolor_paper_tiny\")\n",
        "ddcolor_paper      = DDColorHF.from_pretrained(\"piddnad/ddcolor_paper\")\n",
        "ddcolor_modelscope = DDColorHF.from_pretrained(\"piddnad/ddcolor_modelscope\")\n",
        "ddcolor_artistic   = DDColorHF.from_pretrained(\"piddnad/ddcolor_artistic\")"
      ]
    },
    {
      "cell_type": "code",
      "execution_count": null,
      "metadata": {
        "id": "XMb2D1vIxG-x"
      },
      "outputs": [],
      "source": [
        "! conda run -n ddcolor python infer_hf.py --model_name ddcolor_artistic --input ./temp/"
      ]
    },
    {
      "cell_type": "code",
      "execution_count": null,
      "metadata": {
        "id": "Ii6OWiY0xyoH"
      },
      "outputs": [],
      "source": [
        "! conda run -n ddcolor python infer_hf.py --model_name ddcolor_paper --input ./assets/custom"
      ]
    },
    {
      "cell_type": "code",
      "execution_count": null,
      "metadata": {
        "id": "UEn8BxYUxyWl"
      },
      "outputs": [],
      "source": [
        "! conda run -n ddcolor python infer_hf.py --model_name ddcolor_paper_tiny --input ./assets/custom"
      ]
    },
    {
      "cell_type": "code",
      "execution_count": null,
      "metadata": {
        "id": "UttRtqeHxyCp"
      },
      "outputs": [],
      "source": [
        "! conda run -n ddcolor python infer_hf.py --model_name ddcolor_modelscope --input ./temp/"
      ]
    },
    {
      "cell_type": "code",
      "execution_count": null,
      "metadata": {
        "id": "0vXRYIvxyDLc"
      },
      "outputs": [],
      "source": [
        "! rm -rf /content/DDColor/results"
      ]
    },
    {
      "cell_type": "code",
      "execution_count": null,
      "metadata": {
        "id": "wWZhfe2I0H_I"
      },
      "outputs": [],
      "source": [
        "! zip -r custom_results_modelscope.zip /content/DDColor/results"
      ]
    },
    {
      "cell_type": "markdown",
      "metadata": {
        "id": "I1asGTyls8T9"
      },
      "source": [
        "# Inference Using Local Script"
      ]
    },
    {
      "cell_type": "code",
      "execution_count": null,
      "metadata": {
        "id": "9Cjyw2cCb2-j"
      },
      "outputs": [],
      "source": [
        "from modelscope.hub.snapshot_download import snapshot_download\n",
        "\n",
        "model_dir = snapshot_download('damo/cv_ddcolor_image-colorization', cache_dir='./modelscope')\n",
        "print('model assets saved to %s' % model_dir)"
      ]
    },
    {
      "cell_type": "code",
      "execution_count": null,
      "metadata": {
        "id": "pYBOBR2FeLgM"
      },
      "outputs": [],
      "source": [
        "! conda run -n ddcolor python infer.py --model_path ./experiments/train_ddcolor_l/models/net_g_20000.pth --input ./imagenet-mini/train/n01440764"
      ]
    },
    {
      "cell_type": "markdown",
      "metadata": {
        "id": "Vo2BuxrpXa2F"
      },
      "source": [
        "# Training"
      ]
    },
    {
      "cell_type": "code",
      "execution_count": null,
      "metadata": {
        "id": "6hf-8k-gV9gg"
      },
      "outputs": [],
      "source": [
        "! curl -L -o ./imagenetmini-1000.zip  https://www.kaggle.com/api/v1/datasets/download/ifigotin/imagenetmini-1000\n",
        "! unzip ./imagenetmini-1000.zip -d ./\n",
        "! rm -rf ./imagenetmini-1000.zip"
      ]
    },
    {
      "cell_type": "code",
      "execution_count": null,
      "metadata": {
        "id": "UoO1MWjrXgim"
      },
      "outputs": [],
      "source": [
        "! conda run -n ddcolor python data_list/get_meta_file.py --output-name ./data_list/imagenet.txt --data-path ./imagenet-mini"
      ]
    },
    {
      "cell_type": "code",
      "execution_count": null,
      "metadata": {
        "id": "tjJOi4U2YFgJ"
      },
      "outputs": [],
      "source": [
        "! wget https://dl.fbaipublicfiles.com/convnext/convnext_large_22k_224.pth -O pretrain/convnext_large_22k_224.pth\n",
        "! wget https://download.pytorch.org/models/inception_v3_google-1a9a5a14.pth -O pretrain/inception_v3_google-1a9a5a14.pth"
      ]
    },
    {
      "cell_type": "code",
      "execution_count": null,
      "metadata": {
        "id": "A9U-RoSgy9fI"
      },
      "outputs": [],
      "source": [
        "! conda run -n ddcolor --live-stream pip install -e . --no-build-isolation --use-pep517"
      ]
    },
    {
      "cell_type": "code",
      "execution_count": null,
      "metadata": {
        "id": "eL69-Ciy8OMI"
      },
      "outputs": [],
      "source": [
        "! conda run -n ddcolor pip install sympy --force-reinstall"
      ]
    },
    {
      "cell_type": "code",
      "execution_count": null,
      "metadata": {
        "collapsed": true,
        "id": "sfLP5SVLZTb6"
      },
      "outputs": [],
      "source": [
        "! conda run -n ddcolor --live-stream sh scripts/train.sh"
      ]
    },
    {
      "cell_type": "code",
      "execution_count": null,
      "metadata": {
        "id": "MYoz4DDuxfb7"
      },
      "outputs": [],
      "source": [
        "!zip -r /content/res.zip /content/DDColor/results"
      ]
    }
  ],
  "metadata": {
    "accelerator": "GPU",
    "colab": {
      "collapsed_sections": [
        "J1BziesJWpv_",
        "QKwFIMpMxFIv",
        "I1asGTyls8T9"
      ],
      "gpuType": "T4",
      "provenance": []
    },
    "kernelspec": {
      "display_name": "ddcolor",
      "language": "python",
      "name": "python3"
    },
    "language_info": {
      "codemirror_mode": {
        "name": "ipython",
        "version": 3
      },
      "file_extension": ".py",
      "mimetype": "text/x-python",
      "name": "python",
      "nbconvert_exporter": "python",
      "pygments_lexer": "ipython3",
      "version": "3.9.19"
    }
  },
  "nbformat": 4,
  "nbformat_minor": 0
}
